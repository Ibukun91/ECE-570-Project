{
  "nbformat": 4,
  "nbformat_minor": 0,
  "metadata": {
    "accelerator": "GPU",
    "colab": {
      "name": "Paper_Implementation.ipynb",
      "provenance": [],
      "collapsed_sections": []
    },
    "kernelspec": {
      "display_name": "Python 3",
      "name": "python3"
    },
    "language_info": {
      "name": "python"
    }
  },
  "cells": [
    {
      "cell_type": "code",
      "metadata": {
        "colab": {
          "base_uri": "https://localhost:8080/"
        },
        "id": "-6cSI_IKf4FG",
        "outputId": "ea0ec74d-f057-4178-f49f-ee21e7ba2ca5"
      },
      "source": [
        "from google.colab import drive\n",
        "drive.mount('/content/drive')"
      ],
      "execution_count": 11,
      "outputs": [
        {
          "output_type": "stream",
          "name": "stdout",
          "text": [
            "Drive already mounted at /content/drive; to attempt to forcibly remount, call drive.mount(\"/content/drive\", force_remount=True).\n"
          ]
        }
      ]
    },
    {
      "cell_type": "code",
      "metadata": {
        "colab": {
          "base_uri": "https://localhost:8080/"
        },
        "id": "5rKjoa7omMHX",
        "outputId": "f99ffa2e-f419-4742-e101-0de5dcf3d105"
      },
      "source": [
        "!ls \"/content/drive/My Drive/ECE570/code\""
      ],
      "execution_count": 29,
      "outputs": [
        {
          "output_type": "stream",
          "name": "stdout",
          "text": [
            "check_until_pendulum.py\t\tPaper_Implementation.ipynb\n",
            "check_x_pendulum.py\t\tpendulum-model.h5\n",
            "constants.py\t\t\tpendulum_new_weights_rnn-01-0.0000.hdf5\n",
            "cos.h5\t\t\t\tpendulum.py\n",
            "ffnn.py\t\t\t\tprint_results.py\n",
            "keras_rnn_checker.py\t\t__pycache__\n",
            "logs_pendulum\t\t\tREADME.md\n",
            "lstm_models.ipynb\t\trnn_abstractor.py\n",
            "lstm_models.py\t\t\trnn.py\n",
            "lstm.py\t\t\t\trun_all_benchmarks_pendulum.sh\n",
            "models.py\t\t\tsample1.txt\n",
            "multi_step_pendulum_lstm.ipynb\tsin.h5\n",
            "multi_step_pendulum.py\t\tverify.py\n",
            "nmulti_step_pendulum.py\t\tweights_pendulum_rnn.h5\n",
            "nverify.py\n"
          ]
        }
      ]
    },
    {
      "cell_type": "code",
      "metadata": {
        "colab": {
          "base_uri": "https://localhost:8080/"
        },
        "id": "6W3uZ9dnqlKR",
        "outputId": "5fc37d5d-eec5-48cf-e499-4b3da7c8baf8"
      },
      "source": [
        "%pip install -i https://pypi.gurobi.com gurobipy\n",
        "import gurobipy as gp\n",
        "from gurobipy import GRB"
      ],
      "execution_count": 20,
      "outputs": [
        {
          "output_type": "stream",
          "name": "stdout",
          "text": [
            "Looking in indexes: https://pypi.gurobi.com\n",
            "Collecting gurobipy\n",
            "  Downloading gurobipy-9.5.0-cp37-cp37m-manylinux2014_x86_64.whl (11.5 MB)\n",
            "\u001b[K     |████████████████████████████████| 11.5 MB 3.7 MB/s \n",
            "\u001b[?25hInstalling collected packages: gurobipy\n",
            "Successfully installed gurobipy-9.5.0\n"
          ]
        }
      ]
    },
    {
      "cell_type": "code",
      "metadata": {
        "colab": {
          "base_uri": "https://localhost:8080/"
        },
        "id": "RbvvODo_pniy",
        "outputId": "fa94f2cb-0720-4876-9e2b-50acf5d8924b"
      },
      "source": [
        "!python3 \"/content/drive/My Drive/ECE570/code/multi_step_pendulum.py\""
      ],
      "execution_count": 29,
      "outputs": [
        {
          "output_type": "stream",
          "name": "stdout",
          "text": [
            "2021-11-23 03:52:43.329125: W tensorflow/core/common_runtime/gpu/gpu_bfc_allocator.cc:39] Overriding allow_growth setting because the TF_FORCE_GPU_ALLOW_GROWTH environment variable is set. Original config value was 0.\n",
            "Restricted license - for non-production use only - expires 2023-10-25\n",
            "Finished adding constraints. Took 0.01375068100014687s.\n",
            "Infeasible: No solution found.\n",
            "Angle: pi / 70\n",
            "k: 70\n",
            "Time taken (verification): 0.01115895199973238s\n",
            "Number of variables: 274\n",
            "Number of constraints: 336\n"
          ]
        }
      ]
    }
  ]
}